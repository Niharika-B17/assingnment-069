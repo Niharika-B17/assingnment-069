{
  "nbformat": 4,
  "nbformat_minor": 0,
  "metadata": {
    "colab": {
      "provenance": []
    },
    "kernelspec": {
      "name": "python3",
      "display_name": "Python 3"
    },
    "language_info": {
      "name": "python"
    }
  },
  "cells": [
    {
      "cell_type": "code",
      "execution_count": 9,
      "metadata": {
        "colab": {
          "base_uri": "https://localhost:8080/"
        },
        "id": "FNcGxK6kaPn2",
        "outputId": "09ae29ce-b198-406e-bfea-db832c7d2df2"
      },
      "outputs": [
        {
          "output_type": "stream",
          "name": "stdout",
          "text": [
            "    Name  Age Department  Salary\n",
            "0   John   28         HR   45000\n",
            "1  Alice   34         IT   60000\n",
            "2    Bob   23  Marketing   35000\n",
            "3  Diana   29    Finance   50000\n"
          ]
        }
      ],
      "source": [
        "import pandas as pd\n",
        "\n",
        "# Create a dictionary with the data\n",
        "data = {\n",
        "    'Name': ['John', 'Alice', 'Bob', 'Diana'],\n",
        "    'Age': [28, 34, 23, 29],\n",
        "    'Department': ['HR', 'IT', 'Marketing', 'Finance'],\n",
        "    'Salary': [45000, 60000, 35000, 50000]\n",
        "}\n",
        "\n",
        "# Create a DataFrame using the dictionary\n",
        "df = pd.DataFrame(data)\n",
        "\n",
        "# Display the DataFrame\n",
        "print(df)\n"
      ]
    },
    {
      "cell_type": "code",
      "source": [
        "import pandas as pd\n",
        "\n",
        "# Create a dictionary with the data\n",
        "data = {\n",
        "    'Name': ['John', 'Alice', 'Bob', 'Diana'],\n",
        "    'Age': [28, 34, 23, 29],\n",
        "    'Department': ['HR', 'IT', 'Marketing', 'Finance'],\n",
        "    'Salary': [45000, 60000, 35000, 50000]\n",
        "}\n",
        "\n",
        "# Create a DataFrame using the dictionary\n",
        "df = pd.DataFrame(data)\n",
        "\n",
        "# Task 1: Display the first 2 rows of the DataFrame\n",
        "print(\"First 2 rows of the DataFrame:\")\n",
        "print(df.head(2))  # head(2) shows the first 2 rows\n",
        "print(\"\\n\")\n",
        "\n",
        "# Task 2: Add a new column 'Bonus' which is 10% of the salary\n",
        "df['Bonus'] = df['Salary'] * 0.10\n",
        "\n",
        "# Display the DataFrame after adding the 'Bonus' column\n",
        "print(\"DataFrame after adding the 'Bonus' column:\")\n",
        "print(df)\n",
        "print(\"\\n\")\n",
        "\n",
        "# Task 3: Calculate the average salary of employees\n",
        "average_salary = df['Salary'].mean()\n",
        "print(f\"Average Salary of employees: {average_salary}\")\n",
        "print(\"\\n\")\n",
        "\n",
        "# Task 4: Filter and display employees who are older than 25\n",
        "older_than_25 = df[df['Age'] > 25]\n",
        "print(\"Employees who are older than 25:\")\n",
        "print(older_than_25)\n"
      ],
      "metadata": {
        "colab": {
          "base_uri": "https://localhost:8080/"
        },
        "id": "dw6qzcPNeooy",
        "outputId": "09484dbf-1157-4766-f934-4ac2b3855b95"
      },
      "execution_count": 10,
      "outputs": [
        {
          "output_type": "stream",
          "name": "stdout",
          "text": [
            "First 2 rows of the DataFrame:\n",
            "    Name  Age Department  Salary\n",
            "0   John   28         HR   45000\n",
            "1  Alice   34         IT   60000\n",
            "\n",
            "\n",
            "DataFrame after adding the 'Bonus' column:\n",
            "    Name  Age Department  Salary   Bonus\n",
            "0   John   28         HR   45000  4500.0\n",
            "1  Alice   34         IT   60000  6000.0\n",
            "2    Bob   23  Marketing   35000  3500.0\n",
            "3  Diana   29    Finance   50000  5000.0\n",
            "\n",
            "\n",
            "Average Salary of employees: 47500.0\n",
            "\n",
            "\n",
            "Employees who are older than 25:\n",
            "    Name  Age Department  Salary   Bonus\n",
            "0   John   28         HR   45000  4500.0\n",
            "1  Alice   34         IT   60000  6000.0\n",
            "3  Diana   29    Finance   50000  5000.0\n"
          ]
        }
      ]
    }
  ]
}