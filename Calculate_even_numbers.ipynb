{
  "nbformat": 4,
  "nbformat_minor": 0,
  "metadata": {
    "colab": {
      "provenance": []
    },
    "kernelspec": {
      "name": "python3",
      "display_name": "Python 3"
    },
    "language_info": {
      "name": "python"
    }
  },
  "cells": [
    {
      "cell_type": "code",
      "execution_count": 6,
      "metadata": {
        "colab": {
          "base_uri": "https://localhost:8080/"
        },
        "id": "FNcGxK6kaPn2",
        "outputId": "9c72a3b2-b935-420f-8ec4-410c7eb6b3da"
      },
      "outputs": [
        {
          "output_type": "stream",
          "name": "stdout",
          "text": [
            "Enter a positive integer n: 12\n",
            "Sum of all even numbers between 1 and 12 is: 42\n"
          ]
        }
      ],
      "source": [
        "# Taking input for the number n\n",
        "n = int(input(\"Enter a positive integer n: \"))\n",
        "\n",
        "# Initialize a variable to hold the sum\n",
        "even_sum = 0\n",
        "\n",
        "# Loop through numbers from 1 to n\n",
        "for i in range(2, n+1, 2):  # Start from 2 and step by 2 to get even numbers\n",
        "    even_sum += i\n",
        "\n",
        "# Print the sum of all even numbers\n",
        "print(\"Sum of all even numbers between 1 and\", n, \"is:\", even_sum)\n"
      ]
    }
  ]
}