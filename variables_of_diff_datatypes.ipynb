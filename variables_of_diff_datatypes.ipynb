{
  "nbformat": 4,
  "nbformat_minor": 0,
  "metadata": {
    "colab": {
      "provenance": []
    },
    "kernelspec": {
      "name": "python3",
      "display_name": "Python 3"
    },
    "language_info": {
      "name": "python"
    }
  },
  "cells": [
    {
      "cell_type": "code",
      "execution_count": 1,
      "metadata": {
        "colab": {
          "base_uri": "https://localhost:8080/"
        },
        "id": "FNcGxK6kaPn2",
        "outputId": "8b473db2-6330-4c65-efc0-820e9c0a137e"
      },
      "outputs": [
        {
          "output_type": "stream",
          "name": "stdout",
          "text": [
            "Integer Variable: 10 Type: <class 'int'>\n",
            "Float Variable: 3.14 Type: <class 'float'>\n",
            "String Variable: Hello, World! Type: <class 'str'>\n",
            "Boolean Variable: True Type: <class 'bool'>\n"
          ]
        }
      ],
      "source": [
        "# Declare variables of different data types\n",
        "integer_var = 10\n",
        "float_var = 3.14\n",
        "string_var = \"Hello, World!\"\n",
        "boolean_var = True\n",
        "\n",
        "# Print the variables and their types\n",
        "print(\"Integer Variable:\", integer_var, \"Type:\", type(integer_var))\n",
        "print(\"Float Variable:\", float_var, \"Type:\", type(float_var))\n",
        "print(\"String Variable:\", string_var, \"Type:\", type(string_var))\n",
        "print(\"Boolean Variable:\", boolean_var, \"Type:\", type(boolean_var))\n"
      ]
    }
  ]
}