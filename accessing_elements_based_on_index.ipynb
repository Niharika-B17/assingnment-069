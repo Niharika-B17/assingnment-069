{
  "nbformat": 4,
  "nbformat_minor": 0,
  "metadata": {
    "colab": {
      "provenance": []
    },
    "kernelspec": {
      "name": "python3",
      "display_name": "Python 3"
    },
    "language_info": {
      "name": "python"
    }
  },
  "cells": [
    {
      "cell_type": "code",
      "execution_count": 3,
      "metadata": {
        "colab": {
          "base_uri": "https://localhost:8080/"
        },
        "id": "FNcGxK6kaPn2",
        "outputId": "2fd806b2-9e7a-4f4b-d12f-cd2692109bc9"
      },
      "outputs": [
        {
          "output_type": "stream",
          "name": "stdout",
          "text": [
            "Accessing List:\n",
            "Element at index 2 in my_list: 30\n",
            "Element at index -1 in my_list: 50\n",
            "\n",
            "Accessing Tuple:\n",
            "Element at index 1 in my_tuple: banana\n",
            "Element at index -3 in my_tuple: cherry\n",
            "\n",
            "Accessing Dictionary:\n",
            "Value for key 'name' in my_dict: Alice\n",
            "Value for key 'age' in my_dict: 25\n"
          ]
        }
      ],
      "source": [
        "# List with 5 elements\n",
        "my_list = [10, 20, 30, 40, 50]\n",
        "\n",
        "# Tuple with 5 elements\n",
        "my_tuple = ('apple', 'banana', 'cherry', 'date', 'elderberry')\n",
        "\n",
        "# Dictionary with 5 key-value pairs\n",
        "my_dict = {'name': 'Alice', 'age': 25, 'city': 'New York', 'job': 'Engineer', 'is_student': False}\n",
        "\n",
        "# Accessing elements in the list (by index)\n",
        "print(\"Accessing List:\")\n",
        "print(\"Element at index 2 in my_list:\", my_list[2])  # Accessing index 2 (30)\n",
        "print(\"Element at index -1 in my_list:\", my_list[-1])  # Accessing the last element (50)\n",
        "\n",
        "# Accessing elements in the tuple (by index)\n",
        "print(\"\\nAccessing Tuple:\")\n",
        "print(\"Element at index 1 in my_tuple:\", my_tuple[1])  # Accessing index 1 ('banana')\n",
        "print(\"Element at index -3 in my_tuple:\", my_tuple[-3])  # Accessing 3rd element from the end ('cherry')\n",
        "\n",
        "# Accessing elements in the dictionary (by key)\n",
        "print(\"\\nAccessing Dictionary:\")\n",
        "print(\"Value for key 'name' in my_dict:\", my_dict['name'])  # Accessing value by key ('Alice')\n",
        "print(\"Value for key 'age' in my_dict:\", my_dict['age'])  # Accessing value by key (25)\n"
      ]
    }
  ]
}