{
  "nbformat": 4,
  "nbformat_minor": 0,
  "metadata": {
    "colab": {
      "provenance": []
    },
    "kernelspec": {
      "name": "python3",
      "display_name": "Python 3"
    },
    "language_info": {
      "name": "python"
    }
  },
  "cells": [
    {
      "cell_type": "code",
      "execution_count": 7,
      "metadata": {
        "colab": {
          "base_uri": "https://localhost:8080/"
        },
        "id": "FNcGxK6kaPn2",
        "outputId": "68aea24b-bbd7-4aa7-856c-3deda1670a1b"
      },
      "outputs": [
        {
          "output_type": "stream",
          "name": "stdout",
          "text": [
            "Enter a positive integer n: 72\n",
            "\n",
            "Using a for loop to print numbers from 1 to 72 :\n",
            "1\n",
            "2\n",
            "3\n",
            "4\n",
            "5\n",
            "6\n",
            "7\n",
            "8\n",
            "9\n",
            "10\n",
            "11\n",
            "12\n",
            "13\n",
            "14\n",
            "15\n",
            "16\n",
            "17\n",
            "18\n",
            "19\n",
            "20\n",
            "21\n",
            "22\n",
            "23\n",
            "24\n",
            "25\n",
            "26\n",
            "27\n",
            "28\n",
            "29\n",
            "30\n",
            "31\n",
            "32\n",
            "33\n",
            "34\n",
            "35\n",
            "36\n",
            "37\n",
            "38\n",
            "39\n",
            "40\n",
            "41\n",
            "42\n",
            "43\n",
            "44\n",
            "45\n",
            "46\n",
            "47\n",
            "48\n",
            "49\n",
            "50\n",
            "51\n",
            "52\n",
            "53\n",
            "54\n",
            "55\n",
            "56\n",
            "57\n",
            "58\n",
            "59\n",
            "60\n",
            "61\n",
            "62\n",
            "63\n",
            "64\n",
            "65\n",
            "66\n",
            "67\n",
            "68\n",
            "69\n",
            "70\n",
            "71\n",
            "72\n",
            "\n",
            "Sum of numbers from 1 to 72 using a while loop: 2628\n"
          ]
        }
      ],
      "source": [
        "# Ask the user to enter a positive integer n\n",
        "n = int(input(\"Enter a positive integer n: \"))\n",
        "\n",
        "# Task 1: Use a for loop to print all numbers from 1 to n on separate lines\n",
        "print(\"\\nUsing a for loop to print numbers from 1 to\", n, \":\")\n",
        "for i in range(1, n+1):\n",
        "    print(i)\n",
        "\n",
        "# Task 2: Use a while loop to calculate the sum of all numbers from 1 to n and print the result\n",
        "sum_of_numbers = 0\n",
        "i = 1\n",
        "while i <= n:\n",
        "    sum_of_numbers += i\n",
        "    i += 1\n",
        "\n",
        "print(\"\\nSum of numbers from 1 to\", n, \"using a while loop:\", sum_of_numbers)\n"
      ]
    },
    {
      "cell_type": "code",
      "source": [
        "# Define the function calculate_square\n",
        "def calculate_square(n):\n",
        "    return n ** 2\n",
        "\n",
        "# Main program\n",
        "# Ask the user to input a positive integer\n",
        "n = int(input(\"Enter a positive integer: \"))\n",
        "\n",
        "# Call the calculate_square function and display the result\n",
        "square = calculate_square(n)\n",
        "print(f\"The square of {n} is: {square}\")\n"
      ],
      "metadata": {
        "colab": {
          "base_uri": "https://localhost:8080/"
        },
        "id": "X-65QjCnd5X1",
        "outputId": "78cf6d61-8ba6-4a80-be0e-e8eb836a3c9a"
      },
      "execution_count": 8,
      "outputs": [
        {
          "output_type": "stream",
          "name": "stdout",
          "text": [
            "Enter a positive integer: 82\n",
            "The square of 82 is: 6724\n"
          ]
        }
      ]
    }
  ]
}